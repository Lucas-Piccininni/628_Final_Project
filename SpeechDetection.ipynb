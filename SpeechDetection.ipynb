{
 "cells": [
  {
   "cell_type": "markdown",
   "metadata": {},
   "source": [
    "# Speech Detection"
   ]
  },
  {
   "cell_type": "markdown",
   "metadata": {},
   "source": [
    "Dataset was aquired from: https://www.kaggle.com/datasets/lazyrac00n/speech-activity-detection-datasets?select=Data"
   ]
  },
  {
   "cell_type": "code",
   "execution_count": 7,
   "metadata": {},
   "outputs": [
    {
     "name": "stdout",
     "output_type": "stream",
     "text": [
      "[0.0, 1.0999999999999999, 2.1999999999999997, 3.3]\n",
      "[3.3, 3.5266666666666664, 3.753333333333333, 3.9799999999999995]\n",
      "[3.9799999999999995, 4.028, 4.076, 4.124]\n",
      "[4.124, 4.548, 4.9719999999999995, 5.396]\n",
      "[5.396, 5.430666666666666, 5.465333333333334, 5.5]\n",
      "[5.5, 5.58, 5.659999999999999, 5.739999999999999]\n",
      "[5.739999999999999, 6.258666666666667, 6.777333333333333, 7.296]\n"
     ]
    }
   ],
   "source": [
    "import sys\n",
    "import os.path\n",
    "import textgrids\n",
    "\n",
    "dataPath = 'Data\\Annotation\\Female\\PTDB-TUG\\mic_F01_sa2.TextGrid'\n",
    "\n",
    "grid = textgrids.TextGrid(dataPath)\n",
    "\n",
    "for interval in grid['silences']:\n",
    "    # Convert Praat to Unicode in the label\n",
    "    label = interval.text.transcode()\n",
    "    # Print label and syllable duration, CSV-like\n",
    "    #print('\"{}\";{}'.format(label, interval.dur))\n",
    "    print(interval.timegrid())\n"
   ]
  }
 ],
 "metadata": {
  "kernelspec": {
   "display_name": "venv",
   "language": "python",
   "name": "python3"
  },
  "language_info": {
   "codemirror_mode": {
    "name": "ipython",
    "version": 3
   },
   "file_extension": ".py",
   "mimetype": "text/x-python",
   "name": "python",
   "nbconvert_exporter": "python",
   "pygments_lexer": "ipython3",
   "version": "3.11.9"
  }
 },
 "nbformat": 4,
 "nbformat_minor": 2
}
