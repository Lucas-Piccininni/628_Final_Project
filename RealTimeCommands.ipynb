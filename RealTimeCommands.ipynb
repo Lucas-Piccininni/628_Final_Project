{
 "cells": [
  {
   "cell_type": "markdown",
   "metadata": {},
   "source": [
    "# Instructions"
   ]
  },
  {
   "cell_type": "markdown",
   "metadata": {},
   "source": [
    "Run the code and say a word from the list. The model will repeat the word back to you. If you say stop, the code will stop running"
   ]
  },
  {
   "cell_type": "code",
   "execution_count": 57,
   "metadata": {},
   "outputs": [
    {
     "name": "stdout",
     "output_type": "stream",
     "text": [
      "Capturing audio...\n"
     ]
    },
    {
     "name": "stderr",
     "output_type": "stream",
     "text": [
      "C:\\Users\\lucas\\AppData\\Local\\Temp\\ipykernel_29088\\2620160804.py:36: DeprecationWarning: The binary mode of fromstring is deprecated, as it behaves surprisingly on unicode inputs. Use frombuffer instead\n",
      "  data = np.fromstring(stream.read(CHUNK_SIZE), dtype=np.int16)\n"
     ]
    },
    {
     "name": "stdout",
     "output_type": "stream",
     "text": [
      "RMS Amplitude: 1916.4381\n",
      "right\n",
      "RMS Amplitude: 1531.6527\n",
      "yes\n",
      "RMS Amplitude: 2111.777\n",
      "yes\n",
      "RMS Amplitude: 5320.574\n",
      "down\n",
      "RMS Amplitude: 10244.967\n",
      "go\n",
      "RMS Amplitude: 3456.8477\n",
      "up\n",
      "RMS Amplitude: 2668.3184\n",
      "down\n",
      "RMS Amplitude: 2768.1492\n",
      "left\n",
      "RMS Amplitude: 2181.8079\n",
      "right\n",
      "RMS Amplitude: 2569.1086\n",
      "up\n",
      "RMS Amplitude: 727.5566\n",
      "right\n",
      "RMS Amplitude: 2265.7942\n",
      "up\n",
      "RMS Amplitude: 726.19226\n",
      "yes\n",
      "RMS Amplitude: 1776.0574\n",
      "up\n",
      "Stopping audio capture...\n"
     ]
    },
    {
     "ename": "OSError",
     "evalue": "[Errno -9988] Stream closed",
     "output_type": "error",
     "traceback": [
      "\u001b[1;31m---------------------------------------------------------------------------\u001b[0m",
      "\u001b[1;31mOSError\u001b[0m                                   Traceback (most recent call last)",
      "Cell \u001b[1;32mIn[57], line 36\u001b[0m\n\u001b[0;32m     33\u001b[0m \u001b[38;5;28;01mtry\u001b[39;00m:\n\u001b[0;32m     34\u001b[0m     \u001b[38;5;28;01mwhile\u001b[39;00m \u001b[38;5;28;01mTrue\u001b[39;00m:\n\u001b[0;32m     35\u001b[0m         \u001b[38;5;66;03m# Read audio data from the stream\u001b[39;00m\n\u001b[1;32m---> 36\u001b[0m         data \u001b[38;5;241m=\u001b[39m np\u001b[38;5;241m.\u001b[39mfromstring(\u001b[43mstream\u001b[49m\u001b[38;5;241;43m.\u001b[39;49m\u001b[43mread\u001b[49m\u001b[43m(\u001b[49m\u001b[43mCHUNK_SIZE\u001b[49m\u001b[43m)\u001b[49m, dtype\u001b[38;5;241m=\u001b[39mnp\u001b[38;5;241m.\u001b[39mint16)\n\u001b[0;32m     38\u001b[0m         \u001b[38;5;66;03m# Convert the data to numpy array for further processing\u001b[39;00m\n\u001b[0;32m     39\u001b[0m         audio_data \u001b[38;5;241m=\u001b[39m tf\u001b[38;5;241m.\u001b[39mconvert_to_tensor(data, dtype\u001b[38;5;241m=\u001b[39mtf\u001b[38;5;241m.\u001b[39mfloat32)\n",
      "File \u001b[1;32mc:\\Users\\lucas\\OneDrive\\Documents\\Stevens\\EE_628\\628_Final_Project\\venv3.9\\lib\\site-packages\\pyaudio\\__init__.py:570\u001b[0m, in \u001b[0;36mPyAudio.Stream.read\u001b[1;34m(self, num_frames, exception_on_overflow)\u001b[0m\n\u001b[0;32m    567\u001b[0m \u001b[38;5;28;01mif\u001b[39;00m \u001b[38;5;129;01mnot\u001b[39;00m \u001b[38;5;28mself\u001b[39m\u001b[38;5;241m.\u001b[39m_is_input:\n\u001b[0;32m    568\u001b[0m     \u001b[38;5;28;01mraise\u001b[39;00m \u001b[38;5;167;01mIOError\u001b[39;00m(\u001b[38;5;124m\"\u001b[39m\u001b[38;5;124mNot input stream\u001b[39m\u001b[38;5;124m\"\u001b[39m,\n\u001b[0;32m    569\u001b[0m                   paCanNotReadFromAnOutputOnlyStream)\n\u001b[1;32m--> 570\u001b[0m \u001b[38;5;28;01mreturn\u001b[39;00m \u001b[43mpa\u001b[49m\u001b[38;5;241;43m.\u001b[39;49m\u001b[43mread_stream\u001b[49m\u001b[43m(\u001b[49m\u001b[38;5;28;43mself\u001b[39;49m\u001b[38;5;241;43m.\u001b[39;49m\u001b[43m_stream\u001b[49m\u001b[43m,\u001b[49m\u001b[43m \u001b[49m\u001b[43mnum_frames\u001b[49m\u001b[43m,\u001b[49m\n\u001b[0;32m    571\u001b[0m \u001b[43m                      \u001b[49m\u001b[43mexception_on_overflow\u001b[49m\u001b[43m)\u001b[49m\n",
      "\u001b[1;31mOSError\u001b[0m: [Errno -9988] Stream closed"
     ]
    }
   ],
   "source": [
    "import tensorflow as tf\n",
    "import pyaudio\n",
    "import numpy as np\n",
    "\n",
    "# Parameters for audio capture\n",
    "FORMAT = pyaudio.paInt16\n",
    "CHANNELS = 1\n",
    "RATE = 16000\n",
    "CHUNK_SIZE = 16000\n",
    "\n",
    "label_names = ['down', 'go', 'left', 'no', 'right', 'stop', 'up', 'yes']\n",
    "\n",
    "# Initialize PyAudio\n",
    "p = pyaudio.PyAudio()\n",
    "\n",
    "# Open a stream for audio capture\n",
    "stream = p.open(format=FORMAT,\n",
    "                channels=CHANNELS,\n",
    "                rate=RATE,\n",
    "                input=True,\n",
    "                frames_per_buffer=CHUNK_SIZE)\n",
    "\n",
    "print(\"Capturing audio...\")\n",
    "\n",
    "\n",
    "\n",
    "# Load the SavedModel\n",
    "model = tf.saved_model.load(\"saved\")\n",
    "\n",
    "try:\n",
    "    while True:\n",
    "        # Read audio data from the stream\n",
    "        data = np.fromstring(stream.read(CHUNK_SIZE), dtype=np.int16)\n",
    "        \n",
    "        # Convert the data to numpy array for further processing\n",
    "        audio_data = tf.convert_to_tensor(data, dtype=tf.float32)\n",
    "        audio_data = np.expand_dims(audio_data, axis=0)\n",
    "        \n",
    "        # Feed audio through model\n",
    "        y_pred = model(audio_data)\n",
    "        y_pred = y_pred['class_ids'].numpy()[0]\n",
    "        command = label_names[y_pred]\n",
    "\n",
    "        rms_amplitude = np.sqrt(np.mean(np.square(audio_data)))\n",
    "\n",
    "        if command == 'stop' and rms_amplitude > 500:\n",
    "            print(\"Stopping audio capture...\")\n",
    "            # Close the stream and terminate PyAudio\n",
    "            stream.stop_stream()\n",
    "            stream.close()\n",
    "            p.terminate()\n",
    "        else:\n",
    "            if rms_amplitude > 500:\n",
    "                print(\"RMS Amplitude:\", rms_amplitude)\n",
    "                print(command)\n",
    "        \n",
    "        rms_amplitude = 0\n",
    "\n",
    "        \n",
    "except KeyboardInterrupt:\n",
    "    print(\"Stopping audio capture...\")\n",
    "    # Close the stream and terminate PyAudio\n",
    "    stream.stop_stream()\n",
    "    stream.close()\n",
    "    p.terminate()\n"
   ]
  }
 ],
 "metadata": {
  "kernelspec": {
   "display_name": "venv3.9",
   "language": "python",
   "name": "python3"
  },
  "language_info": {
   "codemirror_mode": {
    "name": "ipython",
    "version": 3
   },
   "file_extension": ".py",
   "mimetype": "text/x-python",
   "name": "python",
   "nbconvert_exporter": "python",
   "pygments_lexer": "ipython3",
   "version": "3.9.13"
  }
 },
 "nbformat": 4,
 "nbformat_minor": 2
}
